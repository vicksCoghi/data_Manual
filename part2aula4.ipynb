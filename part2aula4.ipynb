{
  "nbformat": 4,
  "nbformat_minor": 0,
  "metadata": {
    "colab": {
      "provenance": [],
      "authorship_tag": "ABX9TyPjqEBa2IpUGsVAZHRWIZmH",
      "include_colab_link": true
    },
    "kernelspec": {
      "name": "python3",
      "display_name": "Python 3"
    },
    "language_info": {
      "name": "python"
    }
  },
  "cells": [
    {
      "cell_type": "markdown",
      "metadata": {
        "id": "view-in-github",
        "colab_type": "text"
      },
      "source": [
        "<a href=\"https://colab.research.google.com/github/vicksCoghi/data_Manual/blob/main/part2aula4.ipynb\" target=\"_parent\"><img src=\"https://colab.research.google.com/assets/colab-badge.svg\" alt=\"Open In Colab\"/></a>"
      ]
    },
    {
      "cell_type": "code",
      "execution_count": null,
      "metadata": {
        "id": "TbNx7ybmzw22"
      },
      "outputs": [],
      "source": [
        "import pandas as pd\n",
        "import numpy as np\n",
        "import matplotlib.pyplot as ply"
      ]
    },
    {
      "cell_type": "code",
      "source": [
        "#np.random.seed(42)\n",
        "df_logica = pd.DataFrame(np.random.randint(28, size=(100,1)), columns = ['log_acertos'])\n",
        "df_logica"
      ],
      "metadata": {
        "id": "nMgUKidUz2lh"
      },
      "execution_count": null,
      "outputs": []
    },
    {
      "cell_type": "code",
      "source": [
        "df_portugues = pd.DataFrame(np.random.randint(18,size=(100,1)), columns =['port_acertos'])\n",
        "df_portugues"
      ],
      "metadata": {
        "id": "1SLUbmIb0YsU"
      },
      "execution_count": null,
      "outputs": []
    },
    {
      "cell_type": "code",
      "source": [
        "df_java = pd.DataFrame(np.random.randint(8,size=(100,1)),columns=['java_acertos'])\n",
        "df_java"
      ],
      "metadata": {
        "id": "8aJg-5P11pW9"
      },
      "execution_count": null,
      "outputs": []
    },
    {
      "cell_type": "code",
      "source": [
        "df_python = pd.DataFrame(np.random.randint(40,size=(100,1)),columns=['py_acertos'])\n",
        "df_python"
      ],
      "metadata": {
        "id": "hZ5ZqVBM2S3I"
      },
      "execution_count": null,
      "outputs": []
    },
    {
      "cell_type": "code",
      "source": [
        "df_formacao = pd.DataFrame(np.random.randint(2,size=(100,1)),columns=['formação'])\n",
        "df_formacao"
      ],
      "metadata": {
        "id": "I99MdpnF2t0a"
      },
      "execution_count": null,
      "outputs": []
    },
    {
      "cell_type": "code",
      "source": [
        "df = pd.concat([df_logica,df_portugues,df_java,df_python,df_formacao], axis = 1)"
      ],
      "metadata": {
        "id": "gP7rHisW3X-2"
      },
      "execution_count": null,
      "outputs": []
    },
    {
      "cell_type": "code",
      "source": [
        "df.head(30)"
      ],
      "metadata": {
        "id": "g3qaD9qo3qmx"
      },
      "execution_count": null,
      "outputs": []
    },
    {
      "cell_type": "code",
      "source": [
        "x = df[['log_acertos','port_acertos','java_acertos','py_acertos','formação']]"
      ],
      "metadata": {
        "id": "TQk3Nb-D4OQo"
      },
      "execution_count": null,
      "outputs": []
    },
    {
      "cell_type": "code",
      "source": [
        "y= df[['formação']]"
      ],
      "metadata": {
        "id": "G2NknKJk4bkL"
      },
      "execution_count": null,
      "outputs": []
    },
    {
      "cell_type": "markdown",
      "source": [],
      "metadata": {
        "id": "8LeVn6R15IDO"
      }
    },
    {
      "cell_type": "code",
      "source": [
        "from sklearn.model_selection import train_test_split"
      ],
      "metadata": {
        "id": "PhIKwL4l402r"
      },
      "execution_count": null,
      "outputs": []
    },
    {
      "cell_type": "code",
      "source": [
        "train_test_split(x,y,test_size = 0.25)"
      ],
      "metadata": {
        "id": "u0mv910g5MLV"
      },
      "execution_count": null,
      "outputs": []
    },
    {
      "cell_type": "code",
      "source": [
        "from sklearn.model_selection import train_test_split\n",
        "treino_x,teste_x,treino_y,teste_y= train_test_split(x,y,test_size=0.25)\n",
        "print(treino_x.shape)\n",
        "print(teste_x.shape)"
      ],
      "metadata": {
        "id": "kv979SMZ5xei"
      },
      "execution_count": null,
      "outputs": []
    },
    {
      "cell_type": "code",
      "source": [
        "from sklearn.model_selection import train_test_split\n",
        "from sklearn.svm import LinearSVC\n",
        "from sklearn.metrics import accuracy_score\n",
        "\n",
        "treino_x,teste_x,treino_y,teste_y = train_test_split(x,y,test_size=0.25)"
      ],
      "metadata": {
        "id": "09wvPDG66fsU"
      },
      "execution_count": null,
      "outputs": []
    },
    {
      "cell_type": "code",
      "source": [
        "modelo= LinearSVC()\n",
        "modelo.fit(treino_x,treino_y)\n",
        "previsoes = modelo.predict(teste_x)\n",
        "\n",
        "acuracia = accuracy_score(teste_y,previsoes)*100\n",
        "print(\"A acurácia foi %.2f%%\" % acuracia)"
      ],
      "metadata": {
        "id": "phP2gKdwoUmA"
      },
      "execution_count": null,
      "outputs": []
    },
    {
      "cell_type": "code",
      "source": [
        "from sklearn.model_selection import train_test_split\n",
        "from sklearn.svm import LinearSVC\n",
        "from sklearn.metrics import accuracy_score\n",
        "\n",
        "SEED = 20\n",
        "\n",
        "treino_x,teste_x,treino_y,teste_y = train_test_split(x,y,random_state= SEED,test_size=0.25)\n",
        "\n",
        "modelo = LinearSVC()\n",
        "modelo.fit(treino_x,treino_y)\n",
        "previsoes = modelo.predict(teste_x)\n",
        "\n",
        "acuracia = accuracy_score(teste_y,previsoes)*100\n",
        "print(\"A acurácia foi %.2f%%\" % acuracia)"
      ],
      "metadata": {
        "id": "Vh7Prn6O7jEY"
      },
      "execution_count": null,
      "outputs": []
    },
    {
      "cell_type": "code",
      "source": [
        "treino_y.value_counts() "
      ],
      "metadata": {
        "id": "wpP5yf7a9mOB"
      },
      "execution_count": null,
      "outputs": []
    },
    {
      "cell_type": "code",
      "source": [
        "teste_y.value_counts()"
      ],
      "metadata": {
        "id": "EqAiQ40U9s3q"
      },
      "execution_count": null,
      "outputs": []
    }
  ]
}