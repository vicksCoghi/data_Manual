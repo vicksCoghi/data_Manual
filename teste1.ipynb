{
  "nbformat": 4,
  "nbformat_minor": 0,
  "metadata": {
    "colab": {
      "name": "Cópia de teste1",
      "provenance": [],
      "collapsed_sections": [],
      "authorship_tag": "ABX9TyOv21FIatc6gntryQMzv3/y",
      "include_colab_link": true
    },
    "kernelspec": {
      "name": "python3",
      "display_name": "Python 3"
    },
    "language_info": {
      "name": "python"
    }
  },
  "cells": [
    {
      "cell_type": "markdown",
      "metadata": {
        "id": "view-in-github",
        "colab_type": "text"
      },
      "source": [
        "<a href=\"https://colab.research.google.com/github/vicksCoghi/data_Manual/blob/main/teste1.ipynb\" target=\"_parent\"><img src=\"https://colab.research.google.com/assets/colab-badge.svg\" alt=\"Open In Colab\"/></a>"
      ]
    },
    {
      "cell_type": "code",
      "execution_count": null,
      "metadata": {
        "id": "H4lF63y9nZPv"
      },
      "outputs": [],
      "source": [
        "import pandas as pd\n",
        "import numpy as np\n",
        "import matplotlib.pyplot as plt\n",
        "\n",
        "df = pd.read_csv('http://dados.recife.pe.gov.br/dataset/f381d9ea-4839-44a6-b4fe-788239189900/resource/966e9c4c-df45-40d7-9c58-2f13c61a6d28/download/vacinados.csv', sep=\";\")\n",
        "\n",
        "df = pd.DataFrame(df)"
      ]
    },
    {
      "cell_type": "code",
      "source": [
        "df"
      ],
      "metadata": {
        "id": "UF3VWaompp5A"
      },
      "execution_count": null,
      "outputs": []
    },
    {
      "cell_type": "code",
      "source": [
        "df.info()"
      ],
      "metadata": {
        "id": "CWYlHPzN6x4g"
      },
      "execution_count": null,
      "outputs": []
    },
    {
      "cell_type": "code",
      "source": [
        "df.shape"
      ],
      "metadata": {
        "id": "xOvE_RM-6_Wg"
      },
      "execution_count": null,
      "outputs": []
    },
    {
      "cell_type": "code",
      "source": [
        "df.describe()"
      ],
      "metadata": {
        "id": "qn4lrz4N7RTG"
      },
      "execution_count": null,
      "outputs": []
    },
    {
      "cell_type": "code",
      "source": [
        "df.isnull().sum()"
      ],
      "metadata": {
        "id": "C7TyghhC8WFv"
      },
      "execution_count": null,
      "outputs": []
    },
    {
      "cell_type": "code",
      "source": [
        "df1 = df.head(1000000)\n",
        "df1"
      ],
      "metadata": {
        "id": "BC6Cp4r68ysc"
      },
      "execution_count": null,
      "outputs": []
    },
    {
      "cell_type": "code",
      "source": [
        "df1.isnull().sum()"
      ],
      "metadata": {
        "id": "dYhIzX1t4MV7"
      },
      "execution_count": null,
      "outputs": []
    },
    {
      "cell_type": "code",
      "source": [
        "df1 = df1.fillna({'sexo': 0})\n",
        "df1"
      ],
      "metadata": {
        "id": "vHjzO1PI4WAf"
      },
      "execution_count": null,
      "outputs": []
    },
    {
      "cell_type": "code",
      "source": [
        "df1.isnull().sum()"
      ],
      "metadata": {
        "id": "-1rcIrSY4oj9"
      },
      "execution_count": null,
      "outputs": []
    },
    {
      "cell_type": "code",
      "source": [
        "df1 = df1.fillna({'cpf': 0})\n",
        "df1.isnull().sum()"
      ],
      "metadata": {
        "id": "SZNa4Qmy5ZLo"
      },
      "execution_count": null,
      "outputs": []
    },
    {
      "cell_type": "code",
      "source": [
        "df1 = df1.fillna({'lote': 0.0})"
      ],
      "metadata": {
        "id": "bhi2SwHu50Ws"
      },
      "execution_count": null,
      "outputs": []
    },
    {
      "cell_type": "code",
      "source": [
        "mediaDose = df1[\"dose\"].describe()\n",
        "mediaDose"
      ],
      "metadata": {
        "id": "KO3_6DCW9Fn8"
      },
      "execution_count": null,
      "outputs": []
    },
    {
      "cell_type": "code",
      "source": [
        "df1.isnull().sum()"
      ],
      "metadata": {
        "id": "9t1aEF1o9oOf"
      },
      "execution_count": null,
      "outputs": []
    },
    {
      "cell_type": "code",
      "source": [
        "df2 = df.tail(2407297)\n",
        "df2"
      ],
      "metadata": {
        "id": "IfMyhles-Eh4"
      },
      "execution_count": null,
      "outputs": []
    },
    {
      "cell_type": "code",
      "source": [
        "df2.isnull().sum()"
      ],
      "metadata": {
        "id": "90QaN-wN-WVD"
      },
      "execution_count": null,
      "outputs": []
    },
    {
      "cell_type": "code",
      "source": [
        "df2 = df2.fillna({'cpf' : 0})\n",
        "df2 = df2.fillna({'nome' : 0})\n",
        "df2 = df2.fillna({'sexo' : 0})\n",
        "df2 = df2.fillna({'grupo' : 0})\n",
        "df2 = df2.fillna({'lote' : 0})\n",
        "df2 = df2.fillna({'dose':0})\n",
        "df2 = df2.fillna({'vacina':0})\n",
        "df2"
      ],
      "metadata": {
        "id": "jMYV1bOa-keI"
      },
      "execution_count": null,
      "outputs": []
    },
    {
      "cell_type": "code",
      "source": [
        "df2.isnull().sum()"
      ],
      "metadata": {
        "id": "AftZ2HDhEMOy"
      },
      "execution_count": null,
      "outputs": []
    },
    {
      "cell_type": "code",
      "source": [
        "df.rename(columns={'data_vacinacao': 'dataVacinacao'}, inplace = True)\n",
        "df"
      ],
      "metadata": {
        "id": "iVitwsA2Fcuy"
      },
      "execution_count": null,
      "outputs": []
    },
    {
      "cell_type": "code",
      "source": [
        "df.rename(columns={'local_vacinacao':'localVacinacao'}, inplace = True)\n",
        "df"
      ],
      "metadata": {
        "id": "NejgQ0HvGOsf"
      },
      "execution_count": null,
      "outputs": []
    },
    {
      "cell_type": "code",
      "source": [
        "df3 = df.copy()\n",
        "df3"
      ],
      "metadata": {
        "id": "S5Tak7PgHBv-"
      },
      "execution_count": null,
      "outputs": []
    },
    {
      "cell_type": "code",
      "source": [
        "df = pd.concat([df1,df2])\n",
        "df"
      ],
      "metadata": {
        "id": "ipMx3sRYHUDO"
      },
      "execution_count": null,
      "outputs": []
    },
    {
      "cell_type": "code",
      "source": [
        "df.rename(columns={'local_vacinacao':'localVacinacao'}, inplace = True)\n",
        "df.rename(columns={'data_vacinacao': 'dataVacinacao'}, inplace = True)\n",
        "df"
      ],
      "metadata": {
        "id": "20fgYOzFIJY8"
      },
      "execution_count": null,
      "outputs": []
    },
    {
      "cell_type": "code",
      "source": [
        "df = df.fillna({'localVacinacao' : 0})\n",
        "df = df.fillna({'dataVacinacao':0})\n",
        "df.isnull().sum()\n"
      ],
      "metadata": {
        "id": "6xfXhSuOHkNI"
      },
      "execution_count": null,
      "outputs": []
    }
  ]
}