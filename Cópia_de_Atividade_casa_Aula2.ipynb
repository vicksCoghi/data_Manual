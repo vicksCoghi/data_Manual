{
  "nbformat": 4,
  "nbformat_minor": 0,
  "metadata": {
    "colab": {
      "provenance": [],
      "include_colab_link": true
    },
    "kernelspec": {
      "name": "python3",
      "display_name": "Python 3"
    },
    "language_info": {
      "name": "python"
    }
  },
  "cells": [
    {
      "cell_type": "markdown",
      "metadata": {
        "id": "view-in-github",
        "colab_type": "text"
      },
      "source": [
        "<a href=\"https://colab.research.google.com/github/vicksCoghi/data_Manual/blob/main/C%C3%B3pia_de_Atividade_casa_Aula2.ipynb\" target=\"_parent\"><img src=\"https://colab.research.google.com/assets/colab-badge.svg\" alt=\"Open In Colab\"/></a>"
      ]
    },
    {
      "cell_type": "code",
      "execution_count": null,
      "metadata": {
        "id": "haofwNFHTOwu"
      },
      "outputs": [],
      "source": [
        "import pandas as pd\n",
        "import numpy as np\n",
        "import matplotlib.pyplot as plt\n"
      ]
    },
    {
      "cell_type": "markdown",
      "source": [
        "##Obtendo os dados: \n",
        "Ao rodarmos a célula abaixo vamos obter os dados diretamente do site:\n",
        "\n",
        "http://dados.recife.pe.gov.br/tl/dataset/relacao-de-pessoas-vacinadas-covid-19/resource/966e9c4c-df45-40d7-9c58-2f13c61a6d28 \n"
      ],
      "metadata": {
        "id": "CJSaC-eDpKpZ"
      }
    },
    {
      "cell_type": "code",
      "source": [
        "df1 = pd.read_csv('http://dados.recife.pe.gov.br/dataset/2b5ee58d-9535-4d80-ab32-f63fd475346e/resource/93f4e8c2-430f-4142-86b3-96dab4905b4e/download/casosgravescovid.csv', sep=\";\")"
      ],
      "metadata": {
        "id": "nx62qgP0Teii"
      },
      "execution_count": null,
      "outputs": []
    },
    {
      "cell_type": "markdown",
      "source": [
        "Utilize os comandos aprendidos em aula para os dados carregados, começando, preferencialmente, por:\n",
        "- head()\n",
        "- head(1-2)\n",
        "- tail()\n",
        "- info()\n",
        "- describe()\n",
        "- seguindo com outros aprendidos para manipulação de tratamento dos dados."
      ],
      "metadata": {
        "id": "S4Z2XURVpkAS"
      }
    },
    {
      "cell_type": "code",
      "source": [
        "df1.shape"
      ],
      "metadata": {
        "id": "Eqrqv6A4qEL6",
        "outputId": "dcc9915f-a7cc-49c6-c380-1dc158a1da2d",
        "colab": {
          "base_uri": "https://localhost:8080/"
        }
      },
      "execution_count": null,
      "outputs": [
        {
          "output_type": "execute_result",
          "data": {
            "text/plain": [
              "(36435, 18)"
            ]
          },
          "metadata": {},
          "execution_count": 6
        }
      ]
    },
    {
      "cell_type": "code",
      "source": [
        "df1.head()"
      ],
      "metadata": {
        "id": "AmUT4UbH8YWi"
      },
      "execution_count": null,
      "outputs": []
    },
    {
      "cell_type": "code",
      "source": [
        "df.head(1-2)"
      ],
      "metadata": {
        "id": "FhuzrBHeE4lr"
      },
      "execution_count": null,
      "outputs": []
    },
    {
      "cell_type": "code",
      "source": [
        "\n",
        "df1.describe()"
      ],
      "metadata": {
        "id": "CodiVqq78cu6"
      },
      "execution_count": null,
      "outputs": []
    },
    {
      "cell_type": "code",
      "source": [
        "df1.isnull().sum()"
      ],
      "metadata": {
        "id": "mCZg8Uzl9EnR"
      },
      "execution_count": null,
      "outputs": []
    },
    {
      "cell_type": "code",
      "source": [
        "df1.info()"
      ],
      "metadata": {
        "id": "NxBse8dkE_H7"
      },
      "execution_count": null,
      "outputs": []
    },
    {
      "cell_type": "code",
      "source": [
        "df1 = df1.drop(['etnia'], axis = 1)"
      ],
      "metadata": {
        "id": "dSrp6NHVXySt"
      },
      "execution_count": null,
      "outputs": []
    },
    {
      "cell_type": "code",
      "source": [
        "df1 = df1.rename(columns = {'raca':'etnia'})"
      ],
      "metadata": {
        "id": "XU4XJ5roYZ08"
      },
      "execution_count": null,
      "outputs": []
    },
    {
      "cell_type": "code",
      "source": [
        "df1 = df1.drop(columns = ['outros_sintomas','doencas_preexistentes','categoria_profissional','data_obito'], axis = 1)"
      ],
      "metadata": {
        "id": "-kUNJzRmKjwR"
      },
      "execution_count": null,
      "outputs": []
    },
    {
      "cell_type": "code",
      "source": [
        "df1.head()"
      ],
      "metadata": {
        "id": "EQL8KQ_ALjxl"
      },
      "execution_count": null,
      "outputs": []
    },
    {
      "cell_type": "code",
      "source": [
        "df2 = df1[['data_notificacao','sexo','etnia','idade','municipio_residencia','bairro','sintomas','data_inicio_sintomas','evolucao','profissional_saude','classificacao_final']]\n",
        "df2.head()  #fazendo um novo df pois não foi possível dar drop na coluna 'outras_doencas_preexistentes'"
      ],
      "metadata": {
        "id": "W4JviFsdMkM2"
      },
      "execution_count": null,
      "outputs": []
    },
    {
      "cell_type": "code",
      "source": [
        "df2['sexo'].value_counts()"
      ],
      "metadata": {
        "id": "RUTYiTURQRCT"
      },
      "execution_count": null,
      "outputs": []
    },
    {
      "cell_type": "code",
      "source": [
        "etnia = df2['etnia'].value_counts()\n"
      ],
      "metadata": {
        "id": "soZ5LxeaQYI4"
      },
      "execution_count": null,
      "outputs": []
    },
    {
      "cell_type": "code",
      "source": [
        "df4 = pd.DataFrame(df2.groupby(['idade','sexo','etnia']).size())\n",
        "df4 = df4.reset_index()\n",
        "df4.head()"
      ],
      "metadata": {
        "id": "BdH5NsIeSGUk"
      },
      "execution_count": null,
      "outputs": []
    },
    {
      "cell_type": "code",
      "source": [
        "df4 = df4.rename(columns={ 0 :'quantidade'})\n",
        "df4.tail()"
      ],
      "metadata": {
        "id": "Dy6--LQh_VmB"
      },
      "execution_count": null,
      "outputs": []
    },
    {
      "cell_type": "code",
      "source": [
        "idade = df4.groupby(['idade','quantidade'])\n",
        "idade.head()"
      ],
      "metadata": {
        "id": "ciF58vCPAacg"
      },
      "execution_count": null,
      "outputs": []
    },
    {
      "cell_type": "code",
      "source": [
        "  etnia.plot(kind = 'bar')"
      ],
      "metadata": {
        "id": "FWtupNyeT7ep",
        "colab": {
          "base_uri": "https://localhost:8080/",
          "height": 317
        },
        "outputId": "cabb9891-7ca7-49a2-fb32-6fbe683f3112"
      },
      "execution_count": null,
      "outputs": [
        {
          "output_type": "execute_result",
          "data": {
            "text/plain": [
              "<matplotlib.axes._subplots.AxesSubplot at 0x7f096b42a310>"
            ]
          },
          "metadata": {},
          "execution_count": 27
        },
        {
          "output_type": "display_data",
          "data": {
            "text/plain": [
              "<Figure size 432x288 with 1 Axes>"
            ],
            "image/png": "[encoded data removed]"
          },
          "metadata": {
            "needs_background": "light"
          }
        }
      ]
    },
    {
      "cell_type": "code",
      "source": [],
      "metadata": {
        "id": "Wli9kQRb9_A7"
      },
      "execution_count": null,
      "outputs": []
    }
  ]
}