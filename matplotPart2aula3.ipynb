{
  "nbformat": 4,
  "nbformat_minor": 0,
  "metadata": {
    "colab": {
      "provenance": [],
      "authorship_tag": "ABX9TyPjbECzH5mRiG2pUmKyumsz",
      "include_colab_link": true
    },
    "kernelspec": {
      "name": "python3",
      "display_name": "Python 3"
    },
    "language_info": {
      "name": "python"
    }
  },
  "cells": [
    {
      "cell_type": "markdown",
      "metadata": {
        "id": "view-in-github",
        "colab_type": "text"
      },
      "source": [
        "<a href=\"https://colab.research.google.com/github/vicksCoghi/data_Manual/blob/main/matplotPart2aula3.ipynb\" target=\"_parent\"><img src=\"https://colab.research.google.com/assets/colab-badge.svg\" alt=\"Open In Colab\"/></a>"
      ]
    },
    {
      "cell_type": "code",
      "execution_count": 38,
      "metadata": {
        "id": "hPbZQ21ujT0X"
      },
      "outputs": [],
      "source": [
        "import pandas as pd\n",
        "import numpy as np\n",
        "import matplotlib.pyplot as plt\n",
        "import colorsys\n",
        "plt.style.use('seaborn-talk')\n"
      ]
    },
    {
      "cell_type": "code",
      "source": [
        "#Carregando o dataset\n",
        "dados = pd.read_csv('/content/Dados-Pesquisa.csv')"
      ],
      "metadata": {
        "id": "TVzerOO2kwZL",
        "colab": {
          "base_uri": "https://localhost:8080/"
        },
        "outputId": "316d894d-9555-48be-be0d-b72de2f52b2f"
      },
      "execution_count": 39,
      "outputs": [
        {
          "output_type": "stream",
          "name": "stderr",
          "text": [
            "/usr/local/lib/python3.7/dist-packages/IPython/core/interactiveshell.py:3326: DtypeWarning: Columns (21,57) have mixed types.Specify dtype option on import or set low_memory=False.\n",
            "  exec(code_obj, self.user_global_ns, self.user_ns)\n"
          ]
        }
      ]
    },
    {
      "cell_type": "code",
      "source": [
        "# Imprimir o cabeçalho\n",
        "dados.head()"
      ],
      "metadata": {
        "id": "Vd93COEQlwXI"
      },
      "execution_count": null,
      "outputs": []
    },
    {
      "cell_type": "code",
      "source": [
        "dados.shape #quantidade de linhas e colunas"
      ],
      "metadata": {
        "colab": {
          "base_uri": "https://localhost:8080/"
        },
        "id": "-maYYQZGmtbp",
        "outputId": "fea91dd6-f8db-4bb8-e339-146bd53302c2"
      },
      "execution_count": null,
      "outputs": [
        {
          "output_type": "execute_result",
          "data": {
            "text/plain": [
              "(15620, 113)"
            ]
          },
          "metadata": {},
          "execution_count": 11
        }
      ]
    },
    {
      "cell_type": "code",
      "source": [
        "dados.columns.to_list()"
      ],
      "metadata": {
        "id": "JaRU2_Siot9b"
      },
      "execution_count": null,
      "outputs": []
    },
    {
      "cell_type": "code",
      "source": [
        "df2 = dados.copy()"
      ],
      "metadata": {
        "id": "IC5G1G0ppVKz"
      },
      "execution_count": null,
      "outputs": []
    },
    {
      "cell_type": "code",
      "source": [
        "dados.isna().sum()"
      ],
      "metadata": {
        "id": "K9KctBhmpZBr"
      },
      "execution_count": null,
      "outputs": []
    },
    {
      "cell_type": "code",
      "source": [
        "dados.isna().sum().sum()"
      ],
      "metadata": {
        "id": "azRIv7leqUvm",
        "colab": {
          "base_uri": "https://localhost:8080/"
        },
        "outputId": "cf89469e-2969-4d35-caef-307d1ab06ae5"
      },
      "execution_count": 40,
      "outputs": [
        {
          "output_type": "execute_result",
          "data": {
            "text/plain": [
              "1183948"
            ]
          },
          "metadata": {},
          "execution_count": 40
        }
      ]
    },
    {
      "cell_type": "code",
      "source": [
        "dados.dropna(subset = ['Age'], inplace = True)"
      ],
      "metadata": {
        "id": "x23uoytYqrxR"
      },
      "execution_count": 41,
      "outputs": []
    },
    {
      "cell_type": "code",
      "source": [
        "dados.isna().sum().sum()"
      ],
      "metadata": {
        "colab": {
          "base_uri": "https://localhost:8080/"
        },
        "id": "fn4enOJOrCwc",
        "outputId": "dd6e0fce-0c6a-4d5e-b4a2-cd5c7fd9e2a2"
      },
      "execution_count": 42,
      "outputs": [
        {
          "output_type": "execute_result",
          "data": {
            "text/plain": [
              "994850"
            ]
          },
          "metadata": {},
          "execution_count": 42
        }
      ]
    },
    {
      "cell_type": "code",
      "source": [
        "dados.isna().mean()"
      ],
      "metadata": {
        "id": "ySSZaKfIrGJl"
      },
      "execution_count": null,
      "outputs": []
    },
    {
      "cell_type": "code",
      "source": [
        "print('A base de dados apresenta {} linha e {} colunas'.format(dados.shape[0], dados.shape[1]))"
      ],
      "metadata": {
        "id": "uKU7LegKrqvk"
      },
      "execution_count": null,
      "outputs": []
    },
    {
      "cell_type": "code",
      "source": [
        "dados.dtypes.value_counts()"
      ],
      "metadata": {
        "id": "W5_Ed6bPsHr3"
      },
      "execution_count": null,
      "outputs": []
    },
    {
      "cell_type": "code",
      "source": [
        "# Criando um novo Data Frame apenas com colunas que queremos :\n",
        "dados = dados[['Age','Gender','JobPref','JobRoleInterest','EmploymentField','JobRelocateYesNo','HoursLearning', 'MoneyForLearning']]\n",
        "dados"
      ],
      "metadata": {
        "id": "LytOBuVDsY_V"
      },
      "execution_count": null,
      "outputs": []
    },
    {
      "cell_type": "code",
      "source": [
        "dados.drop_duplicates() # deleta valores duplicados, tira erros de duplicação"
      ],
      "metadata": {
        "id": "9ft7djQItScq"
      },
      "execution_count": null,
      "outputs": []
    },
    {
      "cell_type": "code",
      "source": [
        "dados.describe() #Resumo estatístico do Dataset"
      ],
      "metadata": {
        "id": "pcY7GVvMuKI-"
      },
      "execution_count": null,
      "outputs": []
    },
    {
      "cell_type": "code",
      "source": [
        "dados.describe(include = 'O') # Resumo estatístico de dados qualitativos"
      ],
      "metadata": {
        "id": "HHXa_tkRux1I"
      },
      "execution_count": null,
      "outputs": []
    },
    {
      "cell_type": "markdown",
      "source": [
        "# **Análise de** **Idade**"
      ],
      "metadata": {
        "id": "5B3QBtHBwDt3"
      }
    },
    {
      "cell_type": "code",
      "source": [
        "dados.loc[dados['Age'] > 30]"
      ],
      "metadata": {
        "id": "ue77sor2vfLN"
      },
      "execution_count": null,
      "outputs": []
    },
    {
      "cell_type": "code",
      "source": [
        "dados.Age.unique()"
      ],
      "metadata": {
        "id": "tqxm9IM3v6Nq"
      },
      "execution_count": null,
      "outputs": []
    },
    {
      "cell_type": "code",
      "source": [
        "# Qual a distribuição de idade dos participantes da pesquisa ?\n",
        "# Váriavel Age\n",
        "idade = dados.Age # dados['Age']\n",
        "\n",
        "# Histograma\n",
        "plt.hist(idade,label ='Idades', color= 'lightseagreen')\n",
        "plt.title('Distribuição por Idade')\n",
        "plt.xlabel('Idades')\n",
        "plt.ylabel('Quantidade')\n",
        "plt.legend()\n",
        "plt.grid(True)\n",
        "plt.show()"
      ],
      "metadata": {
        "id": "6eRx0m-owh3X"
      },
      "execution_count": null,
      "outputs": []
    },
    {
      "cell_type": "markdown",
      "source": [
        "**Análise de** **Gênero**"
      ],
      "metadata": {
        "id": "IASD-gedyep9"
      }
    },
    {
      "cell_type": "code",
      "source": [
        "dados.Gender.value_counts()"
      ],
      "metadata": {
        "id": "zyX0Yexmx1am"
      },
      "execution_count": null,
      "outputs": []
    },
    {
      "cell_type": "code",
      "source": [
        "dados.Gender.value_counts().sum()"
      ],
      "metadata": {
        "id": "dy3tTR53yw_7"
      },
      "execution_count": null,
      "outputs": []
    },
    {
      "cell_type": "code",
      "source": [
        "tipos_de_genero = pd.DataFrame(dados.Gender.value_counts())"
      ],
      "metadata": {
        "id": "gjOn8VkjzRT2"
      },
      "execution_count": 70,
      "outputs": []
    },
    {
      "cell_type": "code",
      "source": [
        "tipos_de_genero.head()"
      ],
      "metadata": {
        "id": "-Sr1Gg8Pz9SA"
      },
      "execution_count": null,
      "outputs": []
    },
    {
      "cell_type": "code",
      "source": [
        "tipos_de_genero.columns.name = 'Tipo'"
      ],
      "metadata": {
        "id": "OVUG4IzX0OzT"
      },
      "execution_count": 72,
      "outputs": []
    },
    {
      "cell_type": "code",
      "source": [
        "tipos_de_genero.head()"
      ],
      "metadata": {
        "id": "Z--5yFAR0jJP"
      },
      "execution_count": null,
      "outputs": []
    },
    {
      "cell_type": "code",
      "source": [
        "tipos_de_genero.iloc[0] #pelo índice"
      ],
      "metadata": {
        "id": "BjrtSfTu0tpK"
      },
      "execution_count": null,
      "outputs": []
    },
    {
      "cell_type": "code",
      "source": [
        "# Selecionando linha female e tirando a porcentagem"
      ],
      "metadata": {
        "id": "8wkqwUC41IDI"
      },
      "execution_count": null,
      "outputs": []
    },
    {
      "cell_type": "code",
      "source": [
        "feminino = tipos_de_genero.iloc[1]\n",
        "feminino"
      ],
      "metadata": {
        "id": "a1DN6kD_1QdV"
      },
      "execution_count": null,
      "outputs": []
    },
    {
      "cell_type": "code",
      "source": [
        "total_genero = dados.Gender.value_counts().sum()\n",
        "total_genero"
      ],
      "metadata": {
        "id": "b1qdjxzv1auK"
      },
      "execution_count": null,
      "outputs": []
    },
    {
      "cell_type": "code",
      "source": [
        "fem = (feminino / total_genero*100)\n",
        "fem"
      ],
      "metadata": {
        "id": "5bvSyeJn1nCG"
      },
      "execution_count": null,
      "outputs": []
    },
    {
      "cell_type": "code",
      "source": [
        "dados.groupby('Gender').mean()"
      ],
      "metadata": {
        "id": "_5AXE9HY2SiB"
      },
      "execution_count": null,
      "outputs": []
    },
    {
      "cell_type": "code",
      "source": [
        "genero = dados.Gender.value_counts()"
      ],
      "metadata": {
        "id": "aW5upxHS29R0"
      },
      "execution_count": 82,
      "outputs": []
    },
    {
      "cell_type": "code",
      "source": [
        "plt.pie(genero)"
      ],
      "metadata": {
        "id": "7t-XGIt13GTA"
      },
      "execution_count": null,
      "outputs": []
    },
    {
      "cell_type": "code",
      "source": [
        "plt.pie(genero)\n",
        "plt.legend(dados.Gender.value_counts().index)\n",
        "plt.show()"
      ],
      "metadata": {
        "id": "5MpO2DQf3UFA"
      },
      "execution_count": null,
      "outputs": []
    },
    {
      "cell_type": "code",
      "source": [
        "plt.pie(genero)\n",
        "plt.legend(dados.Gender.value_counts().index, bbox_to_anchor=(1,1)) #bbox = Ajuste de legenda \n",
        "plt.show()"
      ],
      "metadata": {
        "id": "G1Y9UsCk3wCK"
      },
      "execution_count": null,
      "outputs": []
    },
    {
      "cell_type": "markdown",
      "source": [
        "**Distribuição de Interesses**"
      ],
      "metadata": {
        "id": "zLaIMe9m4fs_"
      }
    },
    {
      "cell_type": "code",
      "source": [
        "# Quais são os principais interesses dos participantes da pesquisa ?\n",
        "# Váriavel JobRoleInterest\n",
        "dados.JobRoleInterest.value_counts()\n"
      ],
      "metadata": {
        "id": "rtwZUO_L4AiM"
      },
      "execution_count": null,
      "outputs": []
    },
    {
      "cell_type": "code",
      "source": [
        "interesses = dados.JobRoleInterest.value_counts()\n",
        "interesses.plot(kind='bar')"
      ],
      "metadata": {
        "id": "ayUqg3UI5BP0"
      },
      "execution_count": null,
      "outputs": []
    },
    {
      "cell_type": "code",
      "source": [
        "#Gráfico de Pizza\n",
        "\n",
        "plt.pie(interesses)\n",
        "plt.legend(interesses.index,bbox_to_anchor=(1,0.9))\n",
        "plt.show\n"
      ],
      "metadata": {
        "id": "DZe72iTL5ixy"
      },
      "execution_count": null,
      "outputs": []
    },
    {
      "cell_type": "code",
      "source": [
        "plt.pie(interesses, startangle = 90)\n",
        "plt.legend(interesses.index,bbox_to_anchor=(1,0.9))\n",
        "plt.show"
      ],
      "metadata": {
        "id": "QmgbGqaW6Tc8"
      },
      "execution_count": null,
      "outputs": []
    },
    {
      "cell_type": "markdown",
      "source": [
        "**Preferências de Trabalho por Idade**"
      ],
      "metadata": {
        "id": "OwwfC6-d6aFP"
      }
    },
    {
      "cell_type": "code",
      "source": [
        "#Agrupando os dados\n",
        "\n",
        "dados2 = dados.copy()\n",
        "bins = [0,20,30,40,50,60,100]\n",
        "\n",
        "#Criar uma coluna 'Faixa_Etaria' e inserir as colunas 'Age' com os labels apropriados\n",
        "dados2['Faixa_Etaria'] = pd.cut(dados2['Age'],\n",
        "                                bins,\n",
        "                                labels = ['<20','20-30','30-40','40-50','50-60','>60'])\n",
        "# Cruzar os dados de \"Faixa_Etaria\" com o JobPref\n",
        "df2 = pd.crosstab(dados2['Faixa_Etaria'],dados2['JobPref']).apply(lambda r : r/r.sum(),axis = 1)\n",
        "\n",
        "# Grafico de barras empilhado\n",
        "df2.plot(kind='bar', stacked = True)\n",
        "plt.legend(bbox_to_anchor=(1.3,1))\n",
        "plt.show()"
      ],
      "metadata": {
        "colab": {
          "base_uri": "https://localhost:8080/",
          "height": 289
        },
        "id": "mfRj6pHE65EY",
        "outputId": "37f45362-4663-4486-af86-eecd38b1ff47"
      },
      "execution_count": 94,
      "outputs": [
        {
          "output_type": "display_data",
          "data": {
            "text/plain": [
              "<Figure size 748.8x514.8 with 1 Axes>"
            ],
            "image/png": "[encoded data removed]"
          },
          "metadata": {
            "needs_background": "light"
          }
        }
      ]
    }
  ]
}