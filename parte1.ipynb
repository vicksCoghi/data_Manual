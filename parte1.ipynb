{
  "nbformat": 4,
  "nbformat_minor": 0,
  "metadata": {
    "colab": {
      "name": "parte1",
      "provenance": [],
      "collapsed_sections": [],
      "authorship_tag": "ABX9TyPBBXKODNdzxPqBnkpKTI9h",
      "include_colab_link": true
    },
    "kernelspec": {
      "name": "python3",
      "display_name": "Python 3"
    },
    "language_info": {
      "name": "python"
    }
  },
  "cells": [
    {
      "cell_type": "markdown",
      "metadata": {
        "id": "view-in-github",
        "colab_type": "text"
      },
      "source": [
        "<a href=\"https://colab.research.google.com/github/vicksCoghi/data_Manual/blob/main/parte1.ipynb\" target=\"_parent\"><img src=\"https://colab.research.google.com/assets/colab-badge.svg\" alt=\"Open In Colab\"/></a>"
      ]
    },
    {
      "cell_type": "code",
      "execution_count": null,
      "metadata": {
        "colab": {
          "base_uri": "https://localhost:8080/"
        },
        "id": "ysrK3KsjSa92",
        "outputId": "2c3e47c4-0405-4294-8789-84ab4816c403"
      },
      "outputs": [
        {
          "output_type": "execute_result",
          "data": {
            "text/plain": [
              "6"
            ]
          },
          "metadata": {},
          "execution_count": 4
        }
      ],
      "source": [
        "import pandas as pd\n",
        "import numpy as np\n",
        "\n",
        "\n",
        "serie1 = pd.Series([10,9,8,2,5])\n",
        "serie1\n",
        "\n",
        "serie2 = pd.Series([4,7,6,3], index=[\"a\",\"b\",\"c\",\"d\"])\n",
        "serie2[\"c\"]"
      ]
    },
    {
      "cell_type": "code",
      "source": [
        "serie1.index"
      ],
      "metadata": {
        "id": "KVgYHm7fSgqJ"
      },
      "execution_count": null,
      "outputs": []
    },
    {
      "cell_type": "code",
      "source": [
        "serie2 = pd.Series(np.random.rand(10), index=np.arange(1,11))\n",
        "serie2"
      ],
      "metadata": {
        "id": "aflrgeMiSwRa"
      },
      "execution_count": null,
      "outputs": []
    },
    {
      "cell_type": "code",
      "source": [
        "serie2 = pd.Series([True,7,6,3], index=[4.5,'b','c','d'])\n",
        "serie2       \n",
        "serie2[4.5]     "
      ],
      "metadata": {
        "id": "j5LOicSPUCxm"
      },
      "execution_count": null,
      "outputs": []
    },
    {
      "cell_type": "code",
      "source": [
        "capitais = {\n",
        "    'Pernambuco' : 'Recife',\n",
        "    'Paraiba' : 'Joao Pessoa',\n",
        "    'Ceara' : 'Fortaleza',\n",
        "    'Bahia' : 'Salvador',\n",
        "    'Alagoas': 'Maceió'\n",
        "}\n",
        "type(capitais)"
      ],
      "metadata": {
        "id": "s4irrywvU0Dg"
      },
      "execution_count": null,
      "outputs": []
    },
    {
      "cell_type": "code",
      "source": [
        "serie3 = pd.Series(capitais)\n",
        "serie3"
      ],
      "metadata": {
        "id": "hOlTdH45Vp4j"
      },
      "execution_count": null,
      "outputs": []
    },
    {
      "cell_type": "code",
      "source": [
        "dictEmpresas = {\n",
        "    'Apple' : 947.062 ,\n",
        "    'Google' :819.573 ,\n",
        "    'Amazon' : 705.646 ,\n",
        "    'Microsoft' : 611.460 ,\n",
        "    'Tencent' : 214.023 ,\n",
        "    'McDonalds' : 196.526,\n",
        "    'Visa' :191.032,\n",
        "    'Facebook' : 186.421,\n",
        "    'AliBaba' : 169.966,\n",
        "    'Louis Vuitton' : 124.273,\n",
        "}\n",
        "serie4 = pd.Series(dictEmpresas)\n",
        "serie4"
      ],
      "metadata": {
        "id": "lIoqDvlYWlST"
      },
      "execution_count": null,
      "outputs": []
    },
    {
      "cell_type": "code",
      "source": [
        "empresas = ['Apple','Google','Amazon','Microsoft','Tencent','McDonalds','Visa','Facebook','Alibaba','Louis Vuitton']"
      ],
      "metadata": {
        "id": "73v4_yxaYGDl"
      },
      "execution_count": null,
      "outputs": []
    },
    {
      "cell_type": "code",
      "source": [
        "bilhoes = [947.062,819.573,705.646,611.460,214.023,196.526,191.032,186.421,169.966,124.273]"
      ],
      "metadata": {
        "id": "AynNUkRYYlMs"
      },
      "execution_count": null,
      "outputs": []
    },
    {
      "cell_type": "code",
      "source": [
        "serie5 = pd.Series(bilhoes, index=empresas)\n",
        "serie5"
      ],
      "metadata": {
        "id": "kkIpwefJaFqJ"
      },
      "execution_count": null,
      "outputs": []
    },
    {
      "cell_type": "code",
      "source": [
        "import matplotlib.pyplot as plt\n",
        "serie5.plot()"
      ],
      "metadata": {
        "colab": {
          "base_uri": "https://localhost:8080/",
          "height": 283
        },
        "id": "AmF59sVBbsJW",
        "outputId": "0540e2dc-ebfc-4740-e08c-2143ee3041b7"
      },
      "execution_count": null,
      "outputs": [
        {
          "output_type": "execute_result",
          "data": {
            "text/plain": [
              "<matplotlib.axes._subplots.AxesSubplot at 0x7f78dcd59610>"
            ]
          },
          "metadata": {},
          "execution_count": 22
        },
        {
          "output_type": "display_data",
          "data": {
            "text/plain": [
              "<Figure size 432x288 with 1 Axes>"
            ],
            "image/png": "[encoded data removed]"
          },
          "metadata": {
            "needs_background": "light"
          }
        }
      ]
    },
    {
      "cell_type": "code",
      "source": [
        "serie5.plot(kind = 'bar')"
      ],
      "metadata": {
        "colab": {
          "base_uri": "https://localhost:8080/",
          "height": 338
        },
        "id": "BmHjq-mQdA87",
        "outputId": "7332792a-626f-4ec5-d1f5-d34856946bcf"
      },
      "execution_count": null,
      "outputs": [
        {
          "output_type": "execute_result",
          "data": {
            "text/plain": [
              "<matplotlib.axes._subplots.AxesSubplot at 0x7f78deda6a10>"
            ]
          },
          "metadata": {},
          "execution_count": 23
        },
        {
          "output_type": "display_data",
          "data": {
            "text/plain": [
              "<Figure size 432x288 with 1 Axes>"
            ],
            "image/png": "[encoded data removed]"
          },
          "metadata": {
            "needs_background": "light"
          }
        }
      ]
    }
  ]
}