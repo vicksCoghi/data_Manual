{
  "nbformat": 4,
  "nbformat_minor": 0,
  "metadata": {
    "colab": {
      "provenance": [],
      "authorship_tag": "ABX9TyNILy6wNnl8wUIKi22PezuQ",
      "include_colab_link": true
    },
    "kernelspec": {
      "name": "python3",
      "display_name": "Python 3"
    },
    "language_info": {
      "name": "python"
    }
  },
  "cells": [
    {
      "cell_type": "markdown",
      "metadata": {
        "id": "view-in-github",
        "colab_type": "text"
      },
      "source": [
        "<a href=\"https://colab.research.google.com/github/vicksCoghi/data_Manual/blob/main/Aula4.ipynb\" target=\"_parent\"><img src=\"https://colab.research.google.com/assets/colab-badge.svg\" alt=\"Open In Colab\"/></a>"
      ]
    },
    {
      "cell_type": "code",
      "execution_count": null,
      "metadata": {
        "id": "FRwH4h_EQugA"
      },
      "outputs": [],
      "source": [
        "import pandas as pd\n"
      ]
    },
    {
      "cell_type": "code",
      "source": [
        "#Quais as features, ou seja, caracteristicas dos pacientes?\n",
        "#tossindo?\n",
        "#espirrando\n",
        "#falta de ar?\n",
        "#febre?\n",
        "\n",
        "# Vamos usar 0 para não e 1 para sim\n",
        "gripado1 = [1,1,1,1]\n",
        "gripado2 = [0,1,0,1]\n",
        "gripado3 = [1,1,0,0]\n",
        "gripado4 = [1,1,0,1]\n",
        "\n",
        "\n",
        "alergico1 = [1,1,0,0]\n",
        "alergico2 = [0,1,0,0]\n",
        "alergico3 = [1,0,1,0]\n",
        "alergico4 = [0,1,1,0]"
      ],
      "metadata": {
        "id": "y6lgFw8elE4h"
      },
      "execution_count": null,
      "outputs": []
    },
    {
      "cell_type": "code",
      "source": [
        "dados = [gripado1,gripado2,gripado3,gripado4,alergico1,alergico2,alergico3,alergico4]\n",
        "#categoria 1 = gripado; categoria 0 = alergico\n",
        "categorias = [1,1,1,1,0,0,0,0]"
      ],
      "metadata": {
        "id": "vcKt8ZoImI33"
      },
      "execution_count": null,
      "outputs": []
    },
    {
      "cell_type": "code",
      "source": [
        "from sklearn.svm import LinearSVC"
      ],
      "metadata": {
        "id": "awtUAGDOmmNM"
      },
      "execution_count": null,
      "outputs": []
    },
    {
      "cell_type": "markdown",
      "source": [
        "Rodando nosso treino\n",
        "\n"
      ],
      "metadata": {
        "id": "UYdLZ9aPnz7u"
      }
    },
    {
      "cell_type": "code",
      "source": [
        "modelo = LinearSVC()\n",
        "modelo.fit(dados,categorias)\n"
      ],
      "metadata": {
        "id": "Y8OTURCVniKN"
      },
      "execution_count": null,
      "outputs": []
    },
    {
      "cell_type": "markdown",
      "source": [
        "Definindo dados de teste"
      ],
      "metadata": {
        "id": "fdgS_ncooCBO"
      }
    },
    {
      "cell_type": "code",
      "source": [
        "paciente1 = [0,1,0,1]\n",
        "paciente2 = [0,0,0,0]\n",
        "paciente3 = [1,1,1,1]\n",
        "paciente4 = [0,1,0,1]\n",
        "\n",
        "dados_teste =[paciente1,paciente2,paciente3,paciente4]"
      ],
      "metadata": {
        "id": "0Oao7Z8yoFvO"
      },
      "execution_count": null,
      "outputs": []
    },
    {
      "cell_type": "markdown",
      "source": [
        "**Testando**"
      ],
      "metadata": {
        "id": "Gxn5NNTCo_0H"
      }
    },
    {
      "cell_type": "code",
      "source": [
        "modelo.predict(dados_teste)"
      ],
      "metadata": {
        "colab": {
          "base_uri": "https://localhost:8080/"
        },
        "id": "v0tt7qExpDQ_",
        "outputId": "a362e63b-98b6-4dcb-aa36-2958aad1cef7"
      },
      "execution_count": null,
      "outputs": [
        {
          "output_type": "execute_result",
          "data": {
            "text/plain": [
              "array([1, 0, 1, 1])"
            ]
          },
          "metadata": {},
          "execution_count": 12
        }
      ]
    },
    {
      "cell_type": "markdown",
      "source": [
        "**  Dado um novo paciente, vamos avaliar a possibilidade de ele estar gripado**\n",
        "\n"
      ],
      "metadata": {
        "id": "fO8iM-SrpWpb"
      }
    },
    {
      "cell_type": "code",
      "source": [
        "novo_paciente = [0,1,0,0]\n",
        "modelo.predict([novo_paciente])\n"
      ],
      "metadata": {
        "colab": {
          "base_uri": "https://localhost:8080/"
        },
        "id": "_Kk2bVq1pMoC",
        "outputId": "2d7465e8-33fc-4551-d2e9-1f41cf42e519"
      },
      "execution_count": null,
      "outputs": [
        {
          "output_type": "execute_result",
          "data": {
            "text/plain": [
              "array([0])"
            ]
          },
          "metadata": {},
          "execution_count": 13
        }
      ]
    },
    {
      "cell_type": "code",
      "source": [
        "if (modelo.predict([novo_paciente]) == 0):\n",
        "    print(\"Paciente potecialmente alérgico\")\n",
        "else:\n",
        "    print(\"Paciente potencialmente gripado\")"
      ],
      "metadata": {
        "colab": {
          "base_uri": "https://localhost:8080/"
        },
        "id": "RGnbswhVqi1N",
        "outputId": "def3a3b3-8074-4429-abc0-7930f6978ae5"
      },
      "execution_count": null,
      "outputs": [
        {
          "output_type": "stream",
          "name": "stdout",
          "text": [
            "Paciente potecialmente alérgico\n"
          ]
        }
      ]
    },
    {
      "cell_type": "markdown",
      "source": [
        "Vamos salvar a aplicação do nosso modelo sobre os dados de teste na variável predições\n"
      ],
      "metadata": {
        "id": "1KIIssAvrPDR"
      }
    },
    {
      "cell_type": "code",
      "source": [
        "predicoes = modelo.predict(dados_teste)\n"
      ],
      "metadata": {
        "id": "BEM6QaS8rasG"
      },
      "execution_count": null,
      "outputs": []
    },
    {
      "cell_type": "code",
      "source": [
        "#vamos supor que temos casos com exames que confirmaram o seguinte sobre os pacientes terem gripe ou não.\n",
        "#vamos comparar nosso modelo com a realidade\n",
        "exames = [1,0,1,0]"
      ],
      "metadata": {
        "id": "w762xC5vr0BQ"
      },
      "execution_count": null,
      "outputs": []
    },
    {
      "cell_type": "code",
      "source": [
        "predicoes == exames #acertos \n"
      ],
      "metadata": {
        "colab": {
          "base_uri": "https://localhost:8080/"
        },
        "id": "jpCIadgOsBom",
        "outputId": "d8c0165c-6e5a-4199-943a-e1559cc8bdcc"
      },
      "execution_count": null,
      "outputs": [
        {
          "output_type": "execute_result",
          "data": {
            "text/plain": [
              "array([ True,  True,  True, False])"
            ]
          },
          "metadata": {},
          "execution_count": 20
        }
      ]
    },
    {
      "cell_type": "code",
      "source": [
        "#total de acertos do nosso modelo:\n",
        "total_acertos = (predicoes == exames).sum()\n",
        "total_acertos"
      ],
      "metadata": {
        "id": "C_Dsfd35suQ6"
      },
      "execution_count": null,
      "outputs": []
    },
    {
      "cell_type": "code",
      "source": [
        "total_predicoes = len(dados_teste)\n",
        "total_predicoes"
      ],
      "metadata": {
        "colab": {
          "base_uri": "https://localhost:8080/"
        },
        "id": "oalQqexls5ms",
        "outputId": "2d818cd4-eae2-4a08-899b-701984080ff2"
      },
      "execution_count": null,
      "outputs": [
        {
          "output_type": "execute_result",
          "data": {
            "text/plain": [
              "4"
            ]
          },
          "metadata": {},
          "execution_count": 23
        }
      ]
    },
    {
      "cell_type": "code",
      "source": [
        "#Qual taxa de sucesso?\n",
        "taxa_sucesso =  total_acertos / total_predicoes*100\n",
        "taxa_sucesso"
      ],
      "metadata": {
        "colab": {
          "base_uri": "https://localhost:8080/"
        },
        "id": "GtK3pdlxtUA9",
        "outputId": "7034f35b-6a56-4fbc-a01c-f5232c43ffef"
      },
      "execution_count": null,
      "outputs": [
        {
          "output_type": "execute_result",
          "data": {
            "text/plain": [
              "75.0"
            ]
          },
          "metadata": {},
          "execution_count": 24
        }
      ]
    },
    {
      "cell_type": "code",
      "source": [
        "print('A taxa de sucesso do seu modelo preditivo foi de ', taxa_sucesso,'%')"
      ],
      "metadata": {
        "colab": {
          "base_uri": "https://localhost:8080/"
        },
        "id": "KbWIk12ZtheG",
        "outputId": "59ac3e5d-826c-4323-d8bd-d107ef2cdc16"
      },
      "execution_count": null,
      "outputs": [
        {
          "output_type": "stream",
          "name": "stdout",
          "text": [
            "A taxa de sucesso do seu modelo preditivo foi de  75.0 %\n"
          ]
        }
      ]
    },
    {
      "cell_type": "code",
      "source": [
        "#para situações mais complexas, usaremos o accuracy score\n",
        "from sklearn.metrics import accuracy_score\n",
        "taxa_sucesso = accuracy_score(total_acertos / total_predicoes)\n"
      ],
      "metadata": {
        "id": "zxBLpmQftwJm"
      },
      "execution_count": null,
      "outputs": []
    },
    {
      "cell_type": "code",
      "source": [],
      "metadata": {
        "id": "7fDF73pxvZ-A"
      },
      "execution_count": null,
      "outputs": []
    }
  ]
}