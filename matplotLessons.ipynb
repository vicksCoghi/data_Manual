{
  "nbformat": 4,
  "nbformat_minor": 0,
  "metadata": {
    "colab": {
      "provenance": [],
      "authorship_tag": "ABX9TyOFHceuOGd/IRQ9daJDy/FN",
      "include_colab_link": true
    },
    "kernelspec": {
      "name": "python3",
      "display_name": "Python 3"
    },
    "language_info": {
      "name": "python"
    }
  },
  "cells": [
    {
      "cell_type": "markdown",
      "metadata": {
        "id": "view-in-github",
        "colab_type": "text"
      },
      "source": [
        "<a href=\"https://colab.research.google.com/github/vicksCoghi/data_Manual/blob/main/matplotLessons.ipynb\" target=\"_parent\"><img src=\"https://colab.research.google.com/assets/colab-badge.svg\" alt=\"Open In Colab\"/></a>"
      ]
    },
    {
      "cell_type": "code",
      "execution_count": 1,
      "metadata": {
        "id": "H4lF63y9nZPv"
      },
      "outputs": [],
      "source": [
        "import pandas as pd\n",
        "import numpy as np\n",
        "import matplotlib.pyplot as plt"
      ]
    },
    {
      "cell_type": "code",
      "source": [
        "empresas = ['Apple','Google','Amazon',\n",
        "            'Microsoft','Tencent','McDonalds',\n",
        "            'Visa','Facebook','Alibaba',\n",
        "            'Louis Vuitton']"
      ],
      "metadata": {
        "id": "9aqSBwhYRAge"
      },
      "execution_count": 6,
      "outputs": []
    },
    {
      "cell_type": "code",
      "source": [
        "bilhoes = [947.062,819.573,705.646,\n",
        "           611.460,214.023,196.526,\n",
        "           191.032,186.421,169.966,\n",
        "           124.273]"
      ],
      "metadata": {
        "id": "iKwfmz7hREqF"
      },
      "execution_count": 3,
      "outputs": []
    },
    {
      "cell_type": "code",
      "source": [
        "plt.plot(empresas,bilhoes)\n",
        "plt.title(\"Empresas mais valiosas do mundo\")"
      ],
      "metadata": {
        "id": "gO1f-OW-Rhpz"
      },
      "execution_count": null,
      "outputs": []
    },
    {
      "cell_type": "code",
      "source": [
        "plt.plot(empresas,bilhoes) \n",
        "plt.title(\"Empresas mais valiosas do mundo\") #titulo\n",
        "plt.xlabel(\"Empresas\") #legenda eixo x\n",
        "plt.ylabel(\"Bilhões\") #leganda eixo y"
      ],
      "metadata": {
        "id": "Ayv1tvi3S3WY"
      },
      "execution_count": null,
      "outputs": []
    },
    {
      "cell_type": "code",
      "source": [
        "plt.rcParams[\"figure.figsize\"] = [15,8]\n",
        "plt.plot(empresas,bilhoes)\n",
        "plt.title(\"Empresas mais valiosas do mundo\")\n",
        "plt.xlabel(\"Empresas\")\n",
        "plt.ylabel(\"Bilhões\")\n",
        "plt.show()"
      ],
      "metadata": {
        "id": "LIPyC0HGTW7y"
      },
      "execution_count": null,
      "outputs": []
    },
    {
      "cell_type": "code",
      "source": [
        "plt.rcParams[\"figure.figsize\"] = [15,8]\n",
        "plt.plot(empresas,bilhoes, color ='pink', lw=10) #aumentar a espessura da linha = lw\n",
        "plt.title(\"Empresas mais valiosas do mundo\", fontsize = 25)\n",
        "plt.xlabel(\"Empresas\", fontsize = 20)\n",
        "plt.ylabel(\"Bilhões\", fontsize = 20)\n",
        "plt.legend([\"Bilhões de dólares\"], loc = 'right', fontsize = 15)\n",
        "plt.show()\n"
      ],
      "metadata": {
        "id": "Qf7DkEbHUcGD"
      },
      "execution_count": null,
      "outputs": []
    },
    {
      "cell_type": "code",
      "source": [
        "plt.rcParams[\"figure.figsize\"] = [15,8]\n",
        "plt.plot(empresas,bilhoes, color ='purple', marker = 'o', lw = 2) #adicionar marcador\n",
        "plt.title(\"Empresas mais valiosas do mundo\", fontsize = 25)\n",
        "plt.xlabel(\"Empresas\", fontsize = 20)\n",
        "plt.ylabel(\"Bilhões\", fontsize = 20)\n",
        "plt.legend([\"Bilhões de dólares\"], loc = 'right', fontsize = 15)\n",
        "plt.grid(True)\n",
        "plt.show()"
      ],
      "metadata": {
        "id": "ftD4UT1gXQEO"
      },
      "execution_count": null,
      "outputs": []
    },
    {
      "cell_type": "code",
      "source": [
        "plt.bar(empresas,bilhoes, color ='purple') #alterar para gráfico de barras \n",
        "plt.title(\"Empresas mais valiosas do mundo\", fontsize = 25)\n",
        "plt.xlabel(\"Empresas\", fontsize = 20)\n",
        "plt.ylabel(\"Bilhões\", fontsize = 20)\n",
        "plt.legend([\"Bilhões de dólares\"], loc = 'upper right', fontsize = 15)\n",
        "plt.grid(True) #linhas de grade\n",
        "plt.show()"
      ],
      "metadata": {
        "id": "JtRvJX43YhD2"
      },
      "execution_count": null,
      "outputs": []
    },
    {
      "cell_type": "code",
      "source": [
        "plt.bar(empresas,bilhoes) #modo mais simples possível"
      ],
      "metadata": {
        "id": "ELHySO2baJAF"
      },
      "execution_count": null,
      "outputs": []
    },
    {
      "cell_type": "code",
      "source": [
        "cores = ['salmon','yellow','green','blue','purple','orange','pink','magenta','violet','turquoise']"
      ],
      "metadata": {
        "id": "k3oaJLxgaVdb"
      },
      "execution_count": 89,
      "outputs": []
    },
    {
      "cell_type": "code",
      "source": [
        "plt.bar(empresas,bilhoes, color = cores, edgecolor = 'black') \n",
        "plt.title(\"Empresas mais valiosas do mundo\", fontsize = 25)\n",
        "plt.xlabel(\"Empresas\", fontsize = 20)\n",
        "plt.ylabel(\"Bilhões\", fontsize = 20)\n",
        "plt.grid(True)"
      ],
      "metadata": {
        "id": "ipIr71Gza2x3"
      },
      "execution_count": null,
      "outputs": []
    },
    {
      "cell_type": "code",
      "source": [
        "plt.style.available"
      ],
      "metadata": {
        "id": "tmpaxyTZc8eo"
      },
      "execution_count": null,
      "outputs": []
    },
    {
      "cell_type": "code",
      "source": [
        "plt.style.use('seaborn-dark')\n",
        "plt.bar(empresas,bilhoes, color = cores, edgecolor = 'black') \n",
        "plt.title(\"Empresas mais valiosas do mundo\", fontsize = 25)\n",
        "plt.xlabel(\"Empresas\", fontsize = 20)\n",
        "plt.ylabel(\"Bilhões\", fontsize = 20)\n",
        "plt.grid(True)"
      ],
      "metadata": {
        "id": "LNLbvqJedJex"
      },
      "execution_count": null,
      "outputs": []
    },
    {
      "cell_type": "code",
      "source": [
        "plt.style.use('seaborn-dark')\n",
        "plt.barh(empresas,bilhoes, color = cores, edgecolor = 'black') #barh para barras na horizontal\n",
        "plt.title(\"Empresas mais valiosas do mundo\", fontsize = 25)\n",
        "plt.xlabel(\"Empresas\", fontsize = 20)\n",
        "plt.ylabel(\"Bilhões\", fontsize = 20)\n",
        "plt.grid(True)"
      ],
      "metadata": {
        "id": "fmONi_8uegyu"
      },
      "execution_count": null,
      "outputs": []
    },
    {
      "cell_type": "code",
      "source": [
        "plt.style.use('seaborn-dark')\n",
        "plt.scatter(empresas,bilhoes, color = cores, edgecolor = 'black') #scatter para gráfico de dispersão\n",
        "plt.title(\"Empresas mais valiosas do mundo\", fontsize = 25)\n",
        "plt.xlabel(\"Empresas\", fontsize = 20)\n",
        "plt.ylabel(\"Bilhões\", fontsize = 20)\n",
        "plt.grid(True)"
      ],
      "metadata": {
        "id": "qq_kTTZTfTjm"
      },
      "execution_count": null,
      "outputs": []
    }
  ]
}